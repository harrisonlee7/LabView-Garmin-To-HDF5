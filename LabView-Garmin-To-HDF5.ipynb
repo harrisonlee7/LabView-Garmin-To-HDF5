{
 "cells": [
  {
   "cell_type": "code",
   "execution_count": 1,
   "metadata": {},
   "outputs": [],
   "source": [
    "import numpy as np\n",
    "import pandas as pd\n",
    "import math \n",
    "import os\n",
    "import lvm_read\n",
    "import pickle\n",
    "from datetime import datetime\n",
    "import h5py\n",
    "import tables"
   ]
  },
  {
   "cell_type": "code",
   "execution_count": 2,
   "metadata": {},
   "outputs": [],
   "source": [
    "#obtain lvm data\n",
    "#code from this: https://github.com/openmodal/lvm_read/blob/master/Showcase%20lvm_read.ipynb\n",
    "os.chdir(\"C:\\\\Github Repositories\\\\LabView-Garmin-To-HDF5\")\n",
    "LVMfilename = 'test_22-10-11_1349_011.lvm'\n",
    "lvm = lvm_read.read(LVMfilename,read_from_pickle=False)"
   ]
  },
  {
   "cell_type": "code",
   "execution_count": 3,
   "metadata": {},
   "outputs": [],
   "source": [
    "#create metadata\n",
    "metaData = {'Channels': lvm[0]['Channels'],\n",
    "            'Samples': lvm[0]['Samples'],\n",
    "            'Date': lvm[0]['Date'],\n",
    "            'Time': lvm[0]['Time'],\n",
    "            'Y_Unit_Label': lvm[0]['Y_Unit_Label'],\n",
    "            'X_Dimension': lvm[0]['X_Dimension'],\n",
    "            'X0': lvm[0]['X0'],\n",
    "            'Delta_X': lvm[0]['Delta_X']}"
   ]
  },
  {
   "cell_type": "code",
   "execution_count": 4,
   "metadata": {},
   "outputs": [],
   "source": [
    "#organize file name\n",
    "#obtain start date\n",
    "startDate = lvm[0]['Date'][0]\n",
    "date = startDate.replace('/','-')\n",
    "\n",
    "#obtain start time\n",
    "startTime = lvm[0]['Time'][0]\n",
    "\n",
    "#obtain time values\n",
    "timeTuple = startTime.split(':',2)\n",
    "\n",
    "#make file names\n",
    "fileName = date + '_' + timeTuple[0] + timeTuple[1] + '.hdf5'"
   ]
  },
  {
   "cell_type": "code",
   "execution_count": 5,
   "metadata": {},
   "outputs": [],
   "source": [
    "#calculate time intervals\n",
    "deltaX = lvm[0]['Delta_X'][0]\n",
    "samples = lvm[0]['Samples'][0]\n",
    "\n",
    "timeFloat = round(float(timeTuple[2]),4)\n",
    "\n",
    "timeArray = [timeFloat]\n",
    "count = 1\n",
    "\n",
    "minute = timeTuple[1]\n",
    "\n",
    "for i in range (0,samples-1):\n",
    "    nextTime = timeArray[i] + deltaX\n",
    "    count = count + 1\n",
    "\n",
    "    if nextTime >= 60:\n",
    "        break\n",
    "    else:\n",
    "        timeArray.append(nextTime)"
   ]
  },
  {
   "cell_type": "code",
   "execution_count": 6,
   "metadata": {},
   "outputs": [],
   "source": [
    "#grab Data & convert to pandas dataframe\n",
    "voltages = []\n",
    "for i in range (0, count):\n",
    "    voltage = lvm[0]['data'][i][0]\n",
    "    voltages.append(voltage)\n",
    "\n",
    "d = {'Time': timeArray, 'Voltage': voltages}\n",
    "df = pd.DataFrame(d)"
   ]
  },
  {
   "cell_type": "code",
   "execution_count": 7,
   "metadata": {},
   "outputs": [],
   "source": [
    "#coding example for HDF5 https://www.geeksforgeeks.org/how-to-add-metadata-to-a-dataframe-or-series-with-pandas-in-python/\n",
    "\n",
    "#store HDF5 Data\n",
    "storeData = pd.HDFStore(fileName)\n",
    "storeData.put('data',df)\n",
    "storeData.get_storer('data').attrs.metadata = metaData\n",
    "\n",
    "storeData.close()\n",
    "\n",
    "with pd.HDFStore(fileName) as storeData:\n",
    "    data = storeData['data']\n",
    "    metaData = storeData.get_storer('data').attrs.metadata"
   ]
  },
  {
   "cell_type": "code",
   "execution_count": 9,
   "metadata": {},
   "outputs": [
    {
     "data": {
      "text/html": [
       "<div>\n",
       "<style scoped>\n",
       "    .dataframe tbody tr th:only-of-type {\n",
       "        vertical-align: middle;\n",
       "    }\n",
       "\n",
       "    .dataframe tbody tr th {\n",
       "        vertical-align: top;\n",
       "    }\n",
       "\n",
       "    .dataframe thead th {\n",
       "        text-align: right;\n",
       "    }\n",
       "</style>\n",
       "<table border=\"1\" class=\"dataframe\">\n",
       "  <thead>\n",
       "    <tr style=\"text-align: right;\">\n",
       "      <th></th>\n",
       "      <th>Time</th>\n",
       "      <th>Voltage</th>\n",
       "    </tr>\n",
       "  </thead>\n",
       "  <tbody>\n",
       "    <tr>\n",
       "      <th>0</th>\n",
       "      <td>49.6750</td>\n",
       "      <td>8.761779</td>\n",
       "    </tr>\n",
       "    <tr>\n",
       "      <th>1</th>\n",
       "      <td>49.6755</td>\n",
       "      <td>8.756186</td>\n",
       "    </tr>\n",
       "    <tr>\n",
       "      <th>2</th>\n",
       "      <td>49.6760</td>\n",
       "      <td>8.753224</td>\n",
       "    </tr>\n",
       "    <tr>\n",
       "      <th>3</th>\n",
       "      <td>49.6765</td>\n",
       "      <td>8.758160</td>\n",
       "    </tr>\n",
       "    <tr>\n",
       "      <th>4</th>\n",
       "      <td>49.6770</td>\n",
       "      <td>8.746314</td>\n",
       "    </tr>\n",
       "    <tr>\n",
       "      <th>...</th>\n",
       "      <td>...</td>\n",
       "      <td>...</td>\n",
       "    </tr>\n",
       "    <tr>\n",
       "      <th>9995</th>\n",
       "      <td>54.6725</td>\n",
       "      <td>8.749934</td>\n",
       "    </tr>\n",
       "    <tr>\n",
       "      <th>9996</th>\n",
       "      <td>54.6730</td>\n",
       "      <td>8.757502</td>\n",
       "    </tr>\n",
       "    <tr>\n",
       "      <th>9997</th>\n",
       "      <td>54.6735</td>\n",
       "      <td>8.759476</td>\n",
       "    </tr>\n",
       "    <tr>\n",
       "      <th>9998</th>\n",
       "      <td>54.6740</td>\n",
       "      <td>8.754211</td>\n",
       "    </tr>\n",
       "    <tr>\n",
       "      <th>9999</th>\n",
       "      <td>54.6745</td>\n",
       "      <td>8.747960</td>\n",
       "    </tr>\n",
       "  </tbody>\n",
       "</table>\n",
       "<p>10000 rows × 2 columns</p>\n",
       "</div>"
      ],
      "text/plain": [
       "         Time   Voltage\n",
       "0     49.6750  8.761779\n",
       "1     49.6755  8.756186\n",
       "2     49.6760  8.753224\n",
       "3     49.6765  8.758160\n",
       "4     49.6770  8.746314\n",
       "...       ...       ...\n",
       "9995  54.6725  8.749934\n",
       "9996  54.6730  8.757502\n",
       "9997  54.6735  8.759476\n",
       "9998  54.6740  8.754211\n",
       "9999  54.6745  8.747960\n",
       "\n",
       "[10000 rows x 2 columns]"
      ]
     },
     "execution_count": 9,
     "metadata": {},
     "output_type": "execute_result"
    }
   ],
   "source": [
    "#test read\n",
    "#extra info: https://stackoverflow.com/questions/57146913/unable-to-open-a-previously-opened-h5\n",
    "f = h5py.File(fileName, 'r')\n",
    "f.keys()\n",
    "f.close\n",
    "\n",
    "pd.read_hdf(fileName,'data')"
   ]
  },
  {
   "cell_type": "code",
   "execution_count": null,
   "metadata": {},
   "outputs": [],
   "source": [
    "tables.file._open_files.close_all()"
   ]
  }
 ],
 "metadata": {
  "kernelspec": {
   "display_name": "Python 3.9.7 ('base')",
   "language": "python",
   "name": "python3"
  },
  "language_info": {
   "codemirror_mode": {
    "name": "ipython",
    "version": 3
   },
   "file_extension": ".py",
   "mimetype": "text/x-python",
   "name": "python",
   "nbconvert_exporter": "python",
   "pygments_lexer": "ipython3",
   "version": "3.9.7"
  },
  "orig_nbformat": 4,
  "vscode": {
   "interpreter": {
    "hash": "de2cd0472f61adf887bfae5effa84b94e0ce5afbff6dfbcccb45b53ddf092f68"
   }
  }
 },
 "nbformat": 4,
 "nbformat_minor": 2
}
