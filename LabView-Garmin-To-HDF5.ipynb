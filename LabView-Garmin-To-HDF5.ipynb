{
 "cells": [
  {
   "cell_type": "code",
   "execution_count": 22,
   "metadata": {},
   "outputs": [],
   "source": [
    "import numpy as np\n",
    "import pandas as pd\n",
    "import math \n",
    "import os\n",
    "import lvm_read\n",
    "import pickle"
   ]
  },
  {
   "cell_type": "code",
   "execution_count": 23,
   "metadata": {},
   "outputs": [],
   "source": [
    "#obtain lvm data\n",
    "#code from this: https://github.com/openmodal/lvm_read/blob/master/Showcase%20lvm_read.ipynb\n",
    "os.chdir(\"C:\\\\Github Repositories\\\\LabView-Garmin-To-CSV\")\n",
    "LVMfilename = 'test_22-10-11_1349_011.lvm'\n",
    "lvm = lvm_read.read(LVMfilename,read_from_pickle=False)"
   ]
  },
  {
   "cell_type": "code",
   "execution_count": 24,
   "metadata": {},
   "outputs": [
    {
     "data": {
      "text/plain": [
       "{'Channels': 1,\n",
       " 'Samples': [10000, nan],\n",
       " 'Date': ['2022/10/11', ''],\n",
       " 'Time': ['13:49:49.6749649499425851751', ''],\n",
       " 'Y_Unit_Label': ['Volts', ''],\n",
       " 'X_Dimension': ['Time', ''],\n",
       " 'X0': [0.0, nan],\n",
       " 'Delta_X': [0.0005, nan],\n",
       " 'data': array([[8.761779],\n",
       "        [8.756186],\n",
       "        [8.753224],\n",
       "        ...,\n",
       "        [8.759476],\n",
       "        [8.754211],\n",
       "        [8.74796 ]]),\n",
       " 'Channel names': ['Voltage', 'Comment']}"
      ]
     },
     "execution_count": 24,
     "metadata": {},
     "output_type": "execute_result"
    }
   ],
   "source": [
    "lvm[0]"
   ]
  },
  {
   "cell_type": "code",
   "execution_count": 26,
   "metadata": {},
   "outputs": [],
   "source": [
    "#organize data for lvm\n",
    "startTime = lvm[0]['Time'][0]"
   ]
  },
  {
   "cell_type": "code",
   "execution_count": 25,
   "metadata": {},
   "outputs": [],
   "source": [
    "#coding example for HDF5 https://www.geeksforgeeks.org/how-to-add-metadata-to-a-dataframe-or-series-with-pandas-in-python/\n",
    "\n"
   ]
  }
 ],
 "metadata": {
  "kernelspec": {
   "display_name": "Python 3.9.7 ('base')",
   "language": "python",
   "name": "python3"
  },
  "language_info": {
   "codemirror_mode": {
    "name": "ipython",
    "version": 3
   },
   "file_extension": ".py",
   "mimetype": "text/x-python",
   "name": "python",
   "nbconvert_exporter": "python",
   "pygments_lexer": "ipython3",
   "version": "3.9.7"
  },
  "orig_nbformat": 4,
  "vscode": {
   "interpreter": {
    "hash": "de2cd0472f61adf887bfae5effa84b94e0ce5afbff6dfbcccb45b53ddf092f68"
   }
  }
 },
 "nbformat": 4,
 "nbformat_minor": 2
}
